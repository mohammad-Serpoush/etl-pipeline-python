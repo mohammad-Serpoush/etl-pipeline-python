{
 "cells": [
  {
   "cell_type": "code",
   "execution_count": 2,
   "id": "6d77e2f3",
   "metadata": {},
   "outputs": [],
   "source": [
    "from minio import Minio"
   ]
  },
  {
   "cell_type": "code",
   "execution_count": 12,
   "id": "1dc51b7c",
   "metadata": {},
   "outputs": [],
   "source": [
    "client = Minio(\n",
    "    \"source-s3:9000\",\n",
    "    access_key=\"admin\",\n",
    "    secret_key=\"admin@123\",\n",
    "    secure=False,\n",
    ")"
   ]
  },
  {
   "cell_type": "code",
   "execution_count": 13,
   "id": "343cda6f",
   "metadata": {},
   "outputs": [
    {
     "data": {
      "text/plain": [
       "False"
      ]
     },
     "execution_count": 13,
     "metadata": {},
     "output_type": "execute_result"
    }
   ],
   "source": [
    "found = client.bucket_exists(\"asiatrip\")\n",
    "found"
   ]
  }
 ],
 "metadata": {
  "kernelspec": {
   "display_name": "Python 3 (ipykernel)",
   "language": "python",
   "name": "python3"
  },
  "language_info": {
   "codemirror_mode": {
    "name": "ipython",
    "version": 3
   },
   "file_extension": ".py",
   "mimetype": "text/x-python",
   "name": "python",
   "nbconvert_exporter": "python",
   "pygments_lexer": "ipython3",
   "version": "3.10.5"
  }
 },
 "nbformat": 4,
 "nbformat_minor": 5
}
